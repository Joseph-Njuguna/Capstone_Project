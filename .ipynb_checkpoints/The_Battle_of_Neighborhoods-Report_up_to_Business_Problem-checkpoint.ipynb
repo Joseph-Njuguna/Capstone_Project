{
 "cells": [
  {
   "cell_type": "markdown",
   "metadata": {},
   "source": [
    "<h1 align='center'>Coursera Capstone Project</h1>"
   ]
  },
  {
   "cell_type": "markdown",
   "metadata": {},
   "source": [
    "<h2 align='center'>The Battle of Neighborhoods</h2>"
   ]
  },
  {
   "cell_type": "markdown",
   "metadata": {},
   "source": [
    "<h3>Introduction/Business Problem</h3>"
   ]
  },
  {
   "cell_type": "markdown",
   "metadata": {},
   "source": [
    "Visiting a big city can be quite fascinating as one is enjoying the view of the numerous sky scrapers, the various sceneries and attractions, museums and orphanages among other many and interesting things.\n",
    "However, when one is new or is visiting a city or a place for the first time, they may experience challenges here and there as the they try to find their way in the streets. For example, one may struggle to find a particular museum or maybe one may get a challenge with getting a nice place to relax, have some meal or even a coffee shop. \n",
    "Tourists, people coming for work or business and also other people, though not new to the place, may be able to get some help if there is a way they can get informed about their surroundings. If one is able to know that a certain area has certain type of businesses, or recreational centers, that my help them save their time as they plan their activities for example for a tour or other business as they are able to get the data. It may also help those that are planning to setup businesses. They will be able to know the concentration/density of a certain business type in a given area and hence may help then narrow down on a better area to setup the business or even which business would be more profitable given a particular area within the city.\n"
   ]
  },
  {
   "cell_type": "markdown",
   "metadata": {},
   "source": [
    "\n",
    "\n",
    "\n",
    "\n",
    "\n",
    "\n",
    "\n",
    "\n",
    "\n",
    "\n",
    "\n",
    "\n",
    "\n",
    "\n",
    "\n",
    "\n",
    "\n",
    "\n"
   ]
  },
  {
   "cell_type": "markdown",
   "metadata": {},
   "source": [
    "\n",
    "\n"
   ]
  }
 ],
 "metadata": {
  "kernelspec": {
   "display_name": "Python",
   "language": "python",
   "name": "conda-env-python-py"
  },
  "language_info": {
   "codemirror_mode": {
    "name": "ipython",
    "version": 3
   },
   "file_extension": ".py",
   "mimetype": "text/x-python",
   "name": "python",
   "nbconvert_exporter": "python",
   "pygments_lexer": "ipython3",
   "version": "3.6.11"
  }
 },
 "nbformat": 4,
 "nbformat_minor": 4
}
